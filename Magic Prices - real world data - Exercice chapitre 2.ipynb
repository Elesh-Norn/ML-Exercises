{
 "cells": [
  {
   "cell_type": "markdown",
   "metadata": {},
   "source": [
    "# Can we predict magic the gatherin card price? \n",
    "\n",
    "This jupyter is a notebook to master the concepts explained in Hands-On Machine Learning with Scikit-Learn and Tensor Flow by Aurélien Géron.\n",
    "\n",
    "Magic the gathering is trading card game released in 1993 by Richard Garfield. It's played by both adults and children. It's remarkable by its longevity but also the second hand market, place of speculation and trades. \n",
    "\n",
    "With real world data, can we predict what weight on the price the most?"
   ]
  },
  {
   "cell_type": "markdown",
   "metadata": {},
   "source": [
    "First, i gather the data from https://scryfall.com/. It have an API, making collecting cards data easy. \n",
    "\n",
    "I've already written some code to collect them. You can find it in the Magic_card_fetcher folder. Let's gather the data, put them into a dataframe and look at them."
   ]
  },
  {
   "cell_type": "code",
   "execution_count": 1,
   "metadata": {
    "collapsed": false
   },
   "outputs": [
    {
     "data": {
      "text/html": [
       "<div>\n",
       "<style scoped>\n",
       "    .dataframe tbody tr th:only-of-type {\n",
       "        vertical-align: middle;\n",
       "    }\n",
       "\n",
       "    .dataframe tbody tr th {\n",
       "        vertical-align: top;\n",
       "    }\n",
       "\n",
       "    .dataframe thead th {\n",
       "        text-align: right;\n",
       "    }\n",
       "</style>\n",
       "<table border=\"1\" class=\"dataframe\">\n",
       "  <thead>\n",
       "    <tr style=\"text-align: right;\">\n",
       "      <th></th>\n",
       "      <th>all_parts</th>\n",
       "      <th>artist</th>\n",
       "      <th>border_color</th>\n",
       "      <th>card_faces</th>\n",
       "      <th>cmc</th>\n",
       "      <th>collector_number</th>\n",
       "      <th>color_identity</th>\n",
       "      <th>colors</th>\n",
       "      <th>colorshifted</th>\n",
       "      <th>digital</th>\n",
       "      <th>...</th>\n",
       "      <th>story_spotlight</th>\n",
       "      <th>timeshifted</th>\n",
       "      <th>tix</th>\n",
       "      <th>toughness</th>\n",
       "      <th>type_line</th>\n",
       "      <th>uri</th>\n",
       "      <th>usd</th>\n",
       "      <th>arena_id</th>\n",
       "      <th>watermark</th>\n",
       "      <th>mtgo_foil_id</th>\n",
       "    </tr>\n",
       "  </thead>\n",
       "  <tbody>\n",
       "    <tr>\n",
       "      <th>0</th>\n",
       "      <td>NaN</td>\n",
       "      <td>Tomasz Jedruszek</td>\n",
       "      <td>black</td>\n",
       "      <td>NaN</td>\n",
       "      <td>2.0</td>\n",
       "      <td>85</td>\n",
       "      <td>[B]</td>\n",
       "      <td>[B]</td>\n",
       "      <td>False</td>\n",
       "      <td>False</td>\n",
       "      <td>...</td>\n",
       "      <td>False</td>\n",
       "      <td>False</td>\n",
       "      <td>0.01</td>\n",
       "      <td>NaN</td>\n",
       "      <td>Instant</td>\n",
       "      <td>https://api.scryfall.com/cards/de2de2bd-9ba7-4...</td>\n",
       "      <td>0.23</td>\n",
       "      <td>NaN</td>\n",
       "      <td>NaN</td>\n",
       "      <td>NaN</td>\n",
       "    </tr>\n",
       "    <tr>\n",
       "      <th>1</th>\n",
       "      <td>NaN</td>\n",
       "      <td>Eric Deschamps</td>\n",
       "      <td>black</td>\n",
       "      <td>NaN</td>\n",
       "      <td>3.0</td>\n",
       "      <td>127</td>\n",
       "      <td>[R]</td>\n",
       "      <td>[R]</td>\n",
       "      <td>False</td>\n",
       "      <td>False</td>\n",
       "      <td>...</td>\n",
       "      <td>False</td>\n",
       "      <td>False</td>\n",
       "      <td>0.01</td>\n",
       "      <td>NaN</td>\n",
       "      <td>Sorcery</td>\n",
       "      <td>https://api.scryfall.com/cards/9160dde8-cd77-4...</td>\n",
       "      <td>0.02</td>\n",
       "      <td>NaN</td>\n",
       "      <td>NaN</td>\n",
       "      <td>NaN</td>\n",
       "    </tr>\n",
       "    <tr>\n",
       "      <th>2</th>\n",
       "      <td>NaN</td>\n",
       "      <td>Anthony Palumbo</td>\n",
       "      <td>black</td>\n",
       "      <td>NaN</td>\n",
       "      <td>2.0</td>\n",
       "      <td>1</td>\n",
       "      <td>[W]</td>\n",
       "      <td>[W]</td>\n",
       "      <td>False</td>\n",
       "      <td>False</td>\n",
       "      <td>...</td>\n",
       "      <td>False</td>\n",
       "      <td>False</td>\n",
       "      <td>0.01</td>\n",
       "      <td>NaN</td>\n",
       "      <td>Instant</td>\n",
       "      <td>https://api.scryfall.com/cards/0503c55d-74bb-4...</td>\n",
       "      <td>0.03</td>\n",
       "      <td>NaN</td>\n",
       "      <td>NaN</td>\n",
       "      <td>NaN</td>\n",
       "    </tr>\n",
       "    <tr>\n",
       "      <th>3</th>\n",
       "      <td>NaN</td>\n",
       "      <td>Zoltan Boros</td>\n",
       "      <td>black</td>\n",
       "      <td>NaN</td>\n",
       "      <td>4.0</td>\n",
       "      <td>211</td>\n",
       "      <td>[U, W]</td>\n",
       "      <td>[U, W]</td>\n",
       "      <td>False</td>\n",
       "      <td>False</td>\n",
       "      <td>...</td>\n",
       "      <td>False</td>\n",
       "      <td>False</td>\n",
       "      <td>0.01</td>\n",
       "      <td>4</td>\n",
       "      <td>Creature — Human Artificer</td>\n",
       "      <td>https://api.scryfall.com/cards/5314bae2-4930-4...</td>\n",
       "      <td>0.04</td>\n",
       "      <td>NaN</td>\n",
       "      <td>NaN</td>\n",
       "      <td>NaN</td>\n",
       "    </tr>\n",
       "    <tr>\n",
       "      <th>4</th>\n",
       "      <td>NaN</td>\n",
       "      <td>Izzy</td>\n",
       "      <td>black</td>\n",
       "      <td>NaN</td>\n",
       "      <td>4.0</td>\n",
       "      <td>2</td>\n",
       "      <td>[W]</td>\n",
       "      <td>[W]</td>\n",
       "      <td>False</td>\n",
       "      <td>False</td>\n",
       "      <td>...</td>\n",
       "      <td>False</td>\n",
       "      <td>False</td>\n",
       "      <td>0.01</td>\n",
       "      <td>3</td>\n",
       "      <td>Creature — Dwarf Artificer</td>\n",
       "      <td>https://api.scryfall.com/cards/226f7c45-db9f-4...</td>\n",
       "      <td>0.03</td>\n",
       "      <td>NaN</td>\n",
       "      <td>NaN</td>\n",
       "      <td>NaN</td>\n",
       "    </tr>\n",
       "  </tbody>\n",
       "</table>\n",
       "<p>5 rows × 58 columns</p>\n",
       "</div>"
      ],
      "text/plain": [
       "  all_parts            artist border_color card_faces  cmc collector_number  \\\n",
       "0       NaN  Tomasz Jedruszek        black        NaN  2.0               85   \n",
       "1       NaN    Eric Deschamps        black        NaN  3.0              127   \n",
       "2       NaN   Anthony Palumbo        black        NaN  2.0                1   \n",
       "3       NaN      Zoltan Boros        black        NaN  4.0              211   \n",
       "4       NaN              Izzy        black        NaN  4.0                2   \n",
       "\n",
       "  color_identity  colors  colorshifted  digital     ...       story_spotlight  \\\n",
       "0            [B]     [B]         False    False     ...                 False   \n",
       "1            [R]     [R]         False    False     ...                 False   \n",
       "2            [W]     [W]         False    False     ...                 False   \n",
       "3         [U, W]  [U, W]         False    False     ...                 False   \n",
       "4            [W]     [W]         False    False     ...                 False   \n",
       "\n",
       "  timeshifted   tix  toughness                   type_line  \\\n",
       "0       False  0.01        NaN                     Instant   \n",
       "1       False  0.01        NaN                     Sorcery   \n",
       "2       False  0.01        NaN                     Instant   \n",
       "3       False  0.01          4  Creature — Human Artificer   \n",
       "4       False  0.01          3  Creature — Dwarf Artificer   \n",
       "\n",
       "                                                 uri   usd  arena_id  \\\n",
       "0  https://api.scryfall.com/cards/de2de2bd-9ba7-4...  0.23       NaN   \n",
       "1  https://api.scryfall.com/cards/9160dde8-cd77-4...  0.02       NaN   \n",
       "2  https://api.scryfall.com/cards/0503c55d-74bb-4...  0.03       NaN   \n",
       "3  https://api.scryfall.com/cards/5314bae2-4930-4...  0.04       NaN   \n",
       "4  https://api.scryfall.com/cards/226f7c45-db9f-4...  0.03       NaN   \n",
       "\n",
       "  watermark mtgo_foil_id  \n",
       "0       NaN          NaN  \n",
       "1       NaN          NaN  \n",
       "2       NaN          NaN  \n",
       "3       NaN          NaN  \n",
       "4       NaN          NaN  \n",
       "\n",
       "[5 rows x 58 columns]"
      ]
     },
     "execution_count": 1,
     "metadata": {},
     "output_type": "execute_result"
    }
   ],
   "source": [
    "import pandas as pd\n",
    "from real_exercice import Magic_card_fetcher\n",
    "\n",
    "# Scryfall API give back a JSON making most of our values string. \n",
    "\n",
    "string_df = Magic_card_fetcher.get_all_standard()\n",
    "string_df.head()"
   ]
  },
  {
   "cell_type": "code",
   "execution_count": 2,
   "metadata": {
    "collapsed": false
   },
   "outputs": [
    {
     "name": "stdout",
     "output_type": "stream",
     "text": [
      "<class 'pandas.core.frame.DataFrame'>\n",
      "Int64Index: 1311 entries, 0 to 267\n",
      "Data columns (total 58 columns):\n",
      "all_parts            129 non-null object\n",
      "artist               1311 non-null object\n",
      "border_color         1311 non-null object\n",
      "card_faces           28 non-null object\n",
      "cmc                  1311 non-null float64\n",
      "collector_number     1311 non-null object\n",
      "color_identity       1311 non-null object\n",
      "colors               1293 non-null object\n",
      "colorshifted         1311 non-null bool\n",
      "digital              1311 non-null bool\n",
      "edhrec_rank          1273 non-null float64\n",
      "eur                  1296 non-null object\n",
      "flavor_text          964 non-null object\n",
      "foil                 1311 non-null bool\n",
      "frame                1311 non-null object\n",
      "full_art             1311 non-null bool\n",
      "futureshifted        1311 non-null bool\n",
      "highres_image        1311 non-null bool\n",
      "id                   1311 non-null object\n",
      "illustration_id      1293 non-null object\n",
      "image_uris           1293 non-null object\n",
      "lang                 1311 non-null object\n",
      "layout               1311 non-null object\n",
      "legalities           1311 non-null object\n",
      "loyalty              28 non-null object\n",
      "mana_cost            1293 non-null object\n",
      "mtgo_id              1311 non-null int64\n",
      "multiverse_ids       1311 non-null object\n",
      "name                 1311 non-null object\n",
      "nonfoil              1311 non-null bool\n",
      "object               1311 non-null object\n",
      "oracle_id            1311 non-null object\n",
      "oracle_text          1283 non-null object\n",
      "oversized            1311 non-null bool\n",
      "power                711 non-null object\n",
      "prints_search_uri    1311 non-null object\n",
      "purchase_uris        1311 non-null object\n",
      "rarity               1311 non-null object\n",
      "related_uris         1311 non-null object\n",
      "reprint              1311 non-null bool\n",
      "reserved             1311 non-null bool\n",
      "rulings_uri          1311 non-null object\n",
      "scryfall_set_uri     1311 non-null object\n",
      "scryfall_uri         1311 non-null object\n",
      "set                  1311 non-null object\n",
      "set_name             1311 non-null object\n",
      "set_search_uri       1311 non-null object\n",
      "set_uri              1311 non-null object\n",
      "story_spotlight      1311 non-null bool\n",
      "timeshifted          1311 non-null bool\n",
      "tix                  1311 non-null object\n",
      "toughness            711 non-null object\n",
      "type_line            1311 non-null object\n",
      "uri                  1311 non-null object\n",
      "usd                  1310 non-null object\n",
      "arena_id             744 non-null float64\n",
      "watermark            154 non-null object\n",
      "mtgo_foil_id         274 non-null float64\n",
      "dtypes: bool(12), float64(4), int64(1), object(41)\n",
      "memory usage: 496.7+ KB\n"
     ]
    }
   ],
   "source": [
    "string_df.info()"
   ]
  },
  {
   "cell_type": "markdown",
   "metadata": {},
   "source": [
    "This is interesting! \n",
    "\n",
    "Though, even if people really like the art of a card, i'd doubt that artist name  drive a lot the prices. Let's choose variables that are relevant to the game (such as mana cost or type of card) and if it's a reprint to predict card price."
   ]
  },
  {
   "cell_type": "code",
   "execution_count": 3,
   "metadata": {
    "collapsed": false
   },
   "outputs": [
    {
     "data": {
      "text/html": [
       "<div>\n",
       "<style scoped>\n",
       "    .dataframe tbody tr th:only-of-type {\n",
       "        vertical-align: middle;\n",
       "    }\n",
       "\n",
       "    .dataframe tbody tr th {\n",
       "        vertical-align: top;\n",
       "    }\n",
       "\n",
       "    .dataframe thead th {\n",
       "        text-align: right;\n",
       "    }\n",
       "</style>\n",
       "<table border=\"1\" class=\"dataframe\">\n",
       "  <thead>\n",
       "    <tr style=\"text-align: right;\">\n",
       "      <th></th>\n",
       "      <th>colors</th>\n",
       "      <th>cmc</th>\n",
       "      <th>mana_cost</th>\n",
       "      <th>rarity</th>\n",
       "      <th>toughness</th>\n",
       "      <th>power</th>\n",
       "      <th>type_line</th>\n",
       "      <th>reprint</th>\n",
       "      <th>usd</th>\n",
       "    </tr>\n",
       "    <tr>\n",
       "      <th>name</th>\n",
       "      <th></th>\n",
       "      <th></th>\n",
       "      <th></th>\n",
       "      <th></th>\n",
       "      <th></th>\n",
       "      <th></th>\n",
       "      <th></th>\n",
       "      <th></th>\n",
       "      <th></th>\n",
       "    </tr>\n",
       "  </thead>\n",
       "  <tbody>\n",
       "    <tr>\n",
       "      <th>Abnormal Endurance</th>\n",
       "      <td>[B]</td>\n",
       "      <td>2.0</td>\n",
       "      <td>{1}{B}</td>\n",
       "      <td>common</td>\n",
       "      <td>NaN</td>\n",
       "      <td>NaN</td>\n",
       "      <td>Instant</td>\n",
       "      <td>False</td>\n",
       "      <td>0.23</td>\n",
       "    </tr>\n",
       "    <tr>\n",
       "      <th>Act of Treason</th>\n",
       "      <td>[R]</td>\n",
       "      <td>3.0</td>\n",
       "      <td>{2}{R}</td>\n",
       "      <td>common</td>\n",
       "      <td>NaN</td>\n",
       "      <td>NaN</td>\n",
       "      <td>Sorcery</td>\n",
       "      <td>True</td>\n",
       "      <td>0.02</td>\n",
       "    </tr>\n",
       "    <tr>\n",
       "      <th>Aegis of the Heavens</th>\n",
       "      <td>[W]</td>\n",
       "      <td>2.0</td>\n",
       "      <td>{1}{W}</td>\n",
       "      <td>uncommon</td>\n",
       "      <td>NaN</td>\n",
       "      <td>NaN</td>\n",
       "      <td>Instant</td>\n",
       "      <td>False</td>\n",
       "      <td>0.03</td>\n",
       "    </tr>\n",
       "    <tr>\n",
       "      <th>Aerial Engineer</th>\n",
       "      <td>[U, W]</td>\n",
       "      <td>4.0</td>\n",
       "      <td>{2}{W}{U}</td>\n",
       "      <td>uncommon</td>\n",
       "      <td>4</td>\n",
       "      <td>2</td>\n",
       "      <td>Creature — Human Artificer</td>\n",
       "      <td>False</td>\n",
       "      <td>0.04</td>\n",
       "    </tr>\n",
       "    <tr>\n",
       "      <th>Aethershield Artificer</th>\n",
       "      <td>[W]</td>\n",
       "      <td>4.0</td>\n",
       "      <td>{3}{W}</td>\n",
       "      <td>uncommon</td>\n",
       "      <td>3</td>\n",
       "      <td>3</td>\n",
       "      <td>Creature — Dwarf Artificer</td>\n",
       "      <td>False</td>\n",
       "      <td>0.03</td>\n",
       "    </tr>\n",
       "  </tbody>\n",
       "</table>\n",
       "</div>"
      ],
      "text/plain": [
       "                        colors  cmc  mana_cost    rarity toughness power  \\\n",
       "name                                                                       \n",
       "Abnormal Endurance         [B]  2.0     {1}{B}    common       NaN   NaN   \n",
       "Act of Treason             [R]  3.0     {2}{R}    common       NaN   NaN   \n",
       "Aegis of the Heavens       [W]  2.0     {1}{W}  uncommon       NaN   NaN   \n",
       "Aerial Engineer         [U, W]  4.0  {2}{W}{U}  uncommon         4     2   \n",
       "Aethershield Artificer     [W]  4.0     {3}{W}  uncommon         3     3   \n",
       "\n",
       "                                         type_line  reprint   usd  \n",
       "name                                                               \n",
       "Abnormal Endurance                         Instant    False  0.23  \n",
       "Act of Treason                             Sorcery     True  0.02  \n",
       "Aegis of the Heavens                       Instant    False  0.03  \n",
       "Aerial Engineer         Creature — Human Artificer    False  0.04  \n",
       "Aethershield Artificer  Creature — Dwarf Artificer    False  0.03  "
      ]
     },
     "execution_count": 3,
     "metadata": {},
     "output_type": "execute_result"
    }
   ],
   "source": [
    "short_df = string_df[['colors','cmc','mana_cost','rarity',\n",
    "                      'toughness', 'power', 'type_line', 'name', \n",
    "                      'reprint', 'usd']]\n",
    "short_df.set_index('name', inplace=True)\n",
    "short_df.head()"
   ]
  },
  {
   "cell_type": "markdown",
   "metadata": {},
   "source": [
    "This looks more easy!\n",
    "\n",
    "I deliberatly chose to leave out the card text (the special rules), even if they're the most likely to predict the price. It's ground for more advanced techniques i will see later!\n",
    "\n",
    "Now let's make a naive assumption. \n",
    "\n",
    "You can play cards in the game by paying their mana cost. The more you pay, the bigger the card effect is. So good card = big mana cost right? And thoses cards would be the most pricey!\n",
    "\n",
    "To see this, let's convert cmc (total mana cost) and usd (price in dollars) into a float (they come from a JSON which is a string)"
   ]
  },
  {
   "cell_type": "code",
   "execution_count": 4,
   "metadata": {
    "collapsed": false
   },
   "outputs": [
    {
     "name": "stderr",
     "output_type": "stream",
     "text": [
      "C:\\Users\\kercy_000\\Anaconda3\\lib\\site-packages\\ipykernel\\__main__.py:2: SettingWithCopyWarning: \n",
      "A value is trying to be set on a copy of a slice from a DataFrame.\n",
      "Try using .loc[row_indexer,col_indexer] = value instead\n",
      "\n",
      "See the caveats in the documentation: http://pandas.pydata.org/pandas-docs/stable/indexing.html#indexing-view-versus-copy\n",
      "  from ipykernel import kernelapp as app\n"
     ]
    }
   ],
   "source": [
    "for items in ['cmc', 'usd']:\n",
    "    short_df[items] = short_df[items].astype('float', copy=False)"
   ]
  },
  {
   "cell_type": "markdown",
   "metadata": {},
   "source": [
    "Now let's plot cmc against usd to see what it looks like."
   ]
  },
  {
   "cell_type": "code",
   "execution_count": 5,
   "metadata": {
    "collapsed": false
   },
   "outputs": [
    {
     "data": {
      "image/png": "[encoded data removed]",
      "text/plain": [
       "<Figure size 432x288 with 1 Axes>"
      ]
     },
     "metadata": {},
     "output_type": "display_data"
    }
   ],
   "source": [
    "%matplotlib inline\n",
    "import matplotlib.pyplot as plt\n",
    "short_df.plot(kind='scatter', x ='cmc' , y = 'usd', alpha=0.4)\n",
    "plt.show()"
   ]
  },
  {
   "cell_type": "markdown",
   "metadata": {},
   "source": [
    "Uh oh, this doesn't look well. Let's look what it give when i do a linear regression"
   ]
  },
  {
   "cell_type": "code",
   "execution_count": 6,
   "metadata": {
    "collapsed": false
   },
   "outputs": [],
   "source": [
    "import sklearn.linear_model\n",
    "import numpy as np\n",
    "\n",
    "# I just prepare the data for the regression\n",
    "dummy_df = short_df.loc[:,['cmc', 'usd']].dropna()"
   ]
  },
  {
   "cell_type": "code",
   "execution_count": 7,
   "metadata": {
    "collapsed": false
   },
   "outputs": [
    {
     "data": {
      "text/plain": [
       "LinearRegression(copy_X=True, fit_intercept=True, n_jobs=1, normalize=False)"
      ]
     },
     "execution_count": 7,
     "metadata": {},
     "output_type": "execute_result"
    }
   ],
   "source": [
    "# Using a simple linear regression is easy!\n",
    "\n",
    "model = sklearn.linear_model.LinearRegression()\n",
    "\n",
    "x = np.c_[dummy_df['cmc']]\n",
    "y = np.c_[dummy_df['usd']]\n",
    "\n",
    "model.fit(x, y)"
   ]
  },
  {
   "cell_type": "markdown",
   "metadata": {},
   "source": [
    "Our model is set!\n",
    "\n",
    "Let' look what it look like against our previous plot."
   ]
  },
  {
   "cell_type": "code",
   "execution_count": 8,
   "metadata": {
    "collapsed": false
   },
   "outputs": [
    {
     "data": {
      "image/png": "[encoded data removed]",
      "text/plain": [
       "<Figure size 432x288 with 1 Axes>"
      ]
     },
     "metadata": {},
     "output_type": "display_data"
    }
   ],
   "source": [
    "y_plot = []\n",
    "for item in range(0,13):\n",
    "    y_plot.append(float(model.predict(item)))\n",
    "short_df.plot(kind='scatter', x ='cmc' , y = 'usd', alpha=0.4)\n",
    "plt.plot(y_plot, color='r')\n",
    "plt.show()"
   ]
  },
  {
   "cell_type": "markdown",
   "metadata": {},
   "source": [
    "It looks pretty bad ahah! A linear regression on thoses two values doesn't help us reflect reality at all! We should use more data! \n",
    "\n",
    "Maybe more rare cards cost higher? "
   ]
  },
  {
   "cell_type": "markdown",
   "metadata": {},
   "source": [
    "# In construction : ) "
   ]
  },
  {
   "cell_type": "code",
   "execution_count": null,
   "metadata": {
    "collapsed": false
   },
   "outputs": [],
   "source": [
    "mini_df = short_df[['cmc', 'usd','rarity']]\n",
    "mini_df.head()"
   ]
  },
  {
   "cell_type": "code",
   "execution_count": null,
   "metadata": {
    "collapsed": false
   },
   "outputs": [],
   "source": [
    "from sklearn import preprocessing\n",
    "le = preprocessing.LabelEncoder()\n",
    "le.fit(mini_df[\"rarity\"])\n",
    "\n",
    "le.classes_"
   ]
  },
  {
   "cell_type": "code",
   "execution_count": null,
   "metadata": {
    "collapsed": false
   },
   "outputs": [],
   "source": [
    "mini_df['rarity'] = le.transform(mini_df['rarity'])"
   ]
  },
  {
   "cell_type": "code",
   "execution_count": null,
   "metadata": {
    "collapsed": false
   },
   "outputs": [],
   "source": [
    "mini_df.head()"
   ]
  },
  {
   "cell_type": "code",
   "execution_count": null,
   "metadata": {
    "collapsed": false
   },
   "outputs": [],
   "source": [
    "from sklearn.model_selection import train_test_split\n",
    "train_set, test_set = train_test_split(mini_df, test_size=0.2, random_state = 42)"
   ]
  },
  {
   "cell_type": "code",
   "execution_count": null,
   "metadata": {
    "collapsed": true
   },
   "outputs": [],
   "source": []
  }
 ],
 "metadata": {
  "kernelspec": {
   "display_name": "Python 3",
   "language": "python",
   "name": "python3"
  },
  "language_info": {
   "codemirror_mode": {
    "name": "ipython",
    "version": 3
   },
   "file_extension": ".py",
   "mimetype": "text/x-python",
   "name": "python",
   "nbconvert_exporter": "python",
   "pygments_lexer": "ipython3",
   "version": "3.6.6"
  }
 },
 "nbformat": 4,
 "nbformat_minor": 2
}
